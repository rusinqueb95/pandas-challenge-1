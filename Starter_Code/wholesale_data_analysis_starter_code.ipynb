{
 "cells": [
  {
   "cell_type": "markdown",
   "id": "dc0318d6",
   "metadata": {},
   "source": [
    "## Part 1: Explore the Data\n",
    "\n",
    "Import the data and use Pandas to learn more about the dataset."
   ]
  },
  {
   "cell_type": "code",
   "execution_count": null,
   "id": "e076f57f",
   "metadata": {
    "scrolled": true
   },
   "outputs": [
    {
     "data": {
      "text/html": [
       "<div>\n",
       "<style scoped>\n",
       "    .dataframe tbody tr th:only-of-type {\n",
       "        vertical-align: middle;\n",
       "    }\n",
       "\n",
       "    .dataframe tbody tr th {\n",
       "        vertical-align: top;\n",
       "    }\n",
       "\n",
       "    .dataframe thead th {\n",
       "        text-align: right;\n",
       "    }\n",
       "</style>\n",
       "<table border=\"1\" class=\"dataframe\">\n",
       "  <thead>\n",
       "    <tr style=\"text-align: right;\">\n",
       "      <th></th>\n",
       "      <th>first</th>\n",
       "      <th>last</th>\n",
       "      <th>job</th>\n",
       "      <th>phone</th>\n",
       "      <th>email</th>\n",
       "      <th>client_id</th>\n",
       "      <th>order_id</th>\n",
       "      <th>order_date</th>\n",
       "      <th>order_week</th>\n",
       "      <th>order_year</th>\n",
       "      <th>item_id</th>\n",
       "      <th>category</th>\n",
       "      <th>subcategory</th>\n",
       "      <th>unit_price</th>\n",
       "      <th>unit_cost</th>\n",
       "      <th>unit_weight</th>\n",
       "      <th>qty</th>\n",
       "      <th>line_number</th>\n",
       "    </tr>\n",
       "  </thead>\n",
       "  <tbody>\n",
       "    <tr>\n",
       "      <th>0</th>\n",
       "      <td>Donald</td>\n",
       "      <td>Harding</td>\n",
       "      <td>Immunologist</td>\n",
       "      <td>793-904-7725x39308</td>\n",
       "      <td>harding.donald.7185@sullivan.com</td>\n",
       "      <td>58515</td>\n",
       "      <td>8953482</td>\n",
       "      <td>2023-04-28</td>\n",
       "      <td>17</td>\n",
       "      <td>2023</td>\n",
       "      <td>EUD29711-63-6U</td>\n",
       "      <td>decor</td>\n",
       "      <td>wall art</td>\n",
       "      <td>1096.80</td>\n",
       "      <td>762.71</td>\n",
       "      <td>7.50</td>\n",
       "      <td>105</td>\n",
       "      <td>1</td>\n",
       "    </tr>\n",
       "    <tr>\n",
       "      <th>1</th>\n",
       "      <td>Tiffany</td>\n",
       "      <td>Myers</td>\n",
       "      <td>Music therapist</td>\n",
       "      <td>201.442.4543x942</td>\n",
       "      <td>myers.t.6537@ferguson-johnson.net</td>\n",
       "      <td>37609</td>\n",
       "      <td>8069089</td>\n",
       "      <td>2023-05-19</td>\n",
       "      <td>20</td>\n",
       "      <td>2023</td>\n",
       "      <td>XDA18116-89-4A</td>\n",
       "      <td>consumables</td>\n",
       "      <td>pens</td>\n",
       "      <td>24.95</td>\n",
       "      <td>15.09</td>\n",
       "      <td>1.49</td>\n",
       "      <td>21</td>\n",
       "      <td>0</td>\n",
       "    </tr>\n",
       "    <tr>\n",
       "      <th>2</th>\n",
       "      <td>Shannon</td>\n",
       "      <td>Watson</td>\n",
       "      <td>Immunologist</td>\n",
       "      <td>687.737.9424x8503</td>\n",
       "      <td>swatson8146@payne.net</td>\n",
       "      <td>57113</td>\n",
       "      <td>1902144</td>\n",
       "      <td>2023-01-29</td>\n",
       "      <td>4</td>\n",
       "      <td>2023</td>\n",
       "      <td>ABE59463-05-7E</td>\n",
       "      <td>software</td>\n",
       "      <td>project management</td>\n",
       "      <td>13.52</td>\n",
       "      <td>7.86</td>\n",
       "      <td>1.68</td>\n",
       "      <td>39</td>\n",
       "      <td>6</td>\n",
       "    </tr>\n",
       "    <tr>\n",
       "      <th>3</th>\n",
       "      <td>Nathan</td>\n",
       "      <td>Baker</td>\n",
       "      <td>Accounting technician</td>\n",
       "      <td>827-788-8123x012</td>\n",
       "      <td>bakernathan@benson.com</td>\n",
       "      <td>46554</td>\n",
       "      <td>9031802</td>\n",
       "      <td>2023-04-25</td>\n",
       "      <td>17</td>\n",
       "      <td>2023</td>\n",
       "      <td>ZMM00836-65-0C</td>\n",
       "      <td>consumables</td>\n",
       "      <td>pens</td>\n",
       "      <td>36.42</td>\n",
       "      <td>24.85</td>\n",
       "      <td>1.23</td>\n",
       "      <td>29</td>\n",
       "      <td>3</td>\n",
       "    </tr>\n",
       "    <tr>\n",
       "      <th>4</th>\n",
       "      <td>Christina</td>\n",
       "      <td>Schwartz</td>\n",
       "      <td>Chiropractor</td>\n",
       "      <td>265-829-3643</td>\n",
       "      <td>christinaschwartz9252@mcconnell.com</td>\n",
       "      <td>92089</td>\n",
       "      <td>1322274</td>\n",
       "      <td>2023-05-28</td>\n",
       "      <td>21</td>\n",
       "      <td>2023</td>\n",
       "      <td>BZX55559-12-3X</td>\n",
       "      <td>consumables</td>\n",
       "      <td>misc</td>\n",
       "      <td>195.10</td>\n",
       "      <td>108.17</td>\n",
       "      <td>46.43</td>\n",
       "      <td>20</td>\n",
       "      <td>1</td>\n",
       "    </tr>\n",
       "  </tbody>\n",
       "</table>\n",
       "</div>"
      ],
      "text/plain": [
       "       first      last                    job               phone  \\\n",
       "0     Donald   Harding           Immunologist  793-904-7725x39308   \n",
       "1    Tiffany     Myers        Music therapist    201.442.4543x942   \n",
       "2    Shannon    Watson           Immunologist   687.737.9424x8503   \n",
       "3     Nathan     Baker  Accounting technician    827-788-8123x012   \n",
       "4  Christina  Schwartz           Chiropractor        265-829-3643   \n",
       "\n",
       "                                 email  client_id  order_id  order_date  \\\n",
       "0     harding.donald.7185@sullivan.com      58515   8953482  2023-04-28   \n",
       "1    myers.t.6537@ferguson-johnson.net      37609   8069089  2023-05-19   \n",
       "2                swatson8146@payne.net      57113   1902144  2023-01-29   \n",
       "3               bakernathan@benson.com      46554   9031802  2023-04-25   \n",
       "4  christinaschwartz9252@mcconnell.com      92089   1322274  2023-05-28   \n",
       "\n",
       "   order_week  order_year         item_id     category         subcategory  \\\n",
       "0          17        2023  EUD29711-63-6U        decor            wall art   \n",
       "1          20        2023  XDA18116-89-4A  consumables                pens   \n",
       "2           4        2023  ABE59463-05-7E     software  project management   \n",
       "3          17        2023  ZMM00836-65-0C  consumables                pens   \n",
       "4          21        2023  BZX55559-12-3X  consumables                misc   \n",
       "\n",
       "   unit_price  unit_cost  unit_weight  qty  line_number  \n",
       "0     1096.80     762.71         7.50  105            1  \n",
       "1       24.95      15.09         1.49   21            0  \n",
       "2       13.52       7.86         1.68   39            6  \n",
       "3       36.42      24.85         1.23   29            3  \n",
       "4      195.10     108.17        46.43   20            1  "
      ]
     },
     "execution_count": 204,
     "metadata": {},
     "output_type": "execute_result"
    }
   ],
   "source": [
    "import pandas as pd\n",
    "\n",
    "df = pd.read_csv('Resources/client_dataset.csv')\n",
    "df.head()"
   ]
  },
  {
   "cell_type": "code",
   "execution_count": 205,
   "id": "71b9bbd2",
   "metadata": {},
   "outputs": [
    {
     "name": "stdout",
     "output_type": "stream",
     "text": [
      "Index(['first', 'last', 'job', 'phone', 'email', 'client_id', 'order_id',\n",
      "       'order_date', 'order_week', 'order_year', 'item_id', 'category',\n",
      "       'subcategory', 'unit_price', 'unit_cost', 'unit_weight', 'qty',\n",
      "       'line_number'],\n",
      "      dtype='object')\n"
     ]
    }
   ],
   "source": [
    "# View the column names in the data\n",
    "df.columns"
   ]
  },
  {
   "cell_type": "code",
   "execution_count": 206,
   "id": "bc0f4172",
   "metadata": {},
   "outputs": [
    {
     "name": "stdout",
     "output_type": "stream",
     "text": [
      "          client_id      order_id    order_week    order_year    unit_price  \\\n",
      "count  54639.000000  5.463900e+04  54639.000000  54639.000000  54639.000000   \n",
      "mean   54837.869416  5.470190e+06     11.359139   2022.993064    136.267207   \n",
      "std    25487.438231  2.599807e+06      7.023499      0.082997    183.873135   \n",
      "min    10033.000000  1.000886e+06      1.000000   2022.000000      0.010000   \n",
      "25%    33593.000000  3.196372e+06      6.000000   2023.000000     20.800000   \n",
      "50%    53305.000000  5.496966e+06     11.000000   2023.000000     68.310000   \n",
      "75%    78498.000000  7.733869e+06     17.000000   2023.000000    173.160000   \n",
      "max    99984.000000  9.998480e+06     52.000000   2023.000000   1396.230000   \n",
      "\n",
      "          unit_cost   unit_weight           qty   line_number  \n",
      "count  54639.000000  54639.000000  5.463900e+04  54639.000000  \n",
      "mean      99.446073      5.004116  5.702646e+02      2.979667  \n",
      "std      133.164267      5.326599  1.879552e+04      2.436320  \n",
      "min        0.010000      0.000000  0.000000e+00      0.000000  \n",
      "25%       14.840000      1.450000  3.200000e+01      1.000000  \n",
      "50%       49.890000      3.240000  6.800000e+01      3.000000  \n",
      "75%      125.570000      6.890000  1.700000e+02      5.000000  \n",
      "max      846.270000     46.430000  3.958244e+06      9.000000  \n"
     ]
    }
   ],
   "source": [
    "# Use the describe function to gather some basic statistics\n",
    "df.describe()"
   ]
  },
  {
   "cell_type": "code",
   "execution_count": 207,
   "id": "b24b53cc",
   "metadata": {},
   "outputs": [],
   "source": [
    "# Use this space to do any additional research\n",
    "# and familiarize yourself with the data.\n",
    "\n",
    "df[[\"category\", \"subcategory\", \"qty\"]]\n",
    "df"
   ]
  },
  {
   "cell_type": "code",
   "execution_count": 208,
   "id": "551cb358",
   "metadata": {},
   "outputs": [
    {
     "name": "stdout",
     "output_type": "stream",
     "text": [
      "category\n",
      "consumables    23538\n",
      "furniture      11915\n",
      "software        8400\n",
      "Name: count, dtype: int64\n"
     ]
    }
   ],
   "source": [
    "# What three item categories had the most entries?\n",
    "top_categorie_items = df[\"category\"].value_counts()\n",
    "top_categories = top_categorie_items.head(3)\n",
    "top_categories"
   ]
  },
  {
   "cell_type": "code",
   "execution_count": 209,
   "id": "5f54e2cf",
   "metadata": {},
   "outputs": [
    {
     "name": "stdout",
     "output_type": "stream",
     "text": [
      "consumables\n"
     ]
    }
   ],
   "source": [
    "# For the category with the most entries, which subcategory had the most entries?\n",
    "top_category = top_categorie_items.index[0]\n",
    "top_subcategory = df[df[\"category\"] == top_category][\"subcategory\"].value_counts().idxmax()\n",
    "top_subcategory"
   ]
  },
  {
   "cell_type": "code",
   "execution_count": 210,
   "id": "2db94379",
   "metadata": {},
   "outputs": [
    {
     "name": "stdout",
     "output_type": "stream",
     "text": [
      "client_id\n",
      "33615    220\n",
      "66037    211\n",
      "46820    209\n",
      "38378    207\n",
      "24741    207\n",
      "Name: count, dtype: int64\n"
     ]
    }
   ],
   "source": [
    "# Which five clients had the most entries in the data?\n",
    "top_client_count = df[\"client_id\"].value_counts()\n",
    "top_clients = top_client_count.head(5)\n",
    "top_clients\n"
   ]
  },
  {
   "cell_type": "code",
   "execution_count": 211,
   "id": "a6635601",
   "metadata": {},
   "outputs": [
    {
     "name": "stdout",
     "output_type": "stream",
     "text": [
      "[33615, 66037, 46820, 38378, 24741]\n"
     ]
    }
   ],
   "source": [
    "# Store the client ids of those top 5 clients in a list.\n",
    "top_client = df['client_id'].value_counts().head(5)\n",
    "top_clients_list = top_clients.index.to_list()\n",
    "top_clients_list\n"
   ]
  },
  {
   "cell_type": "code",
   "execution_count": 212,
   "id": "c88b8a3e",
   "metadata": {},
   "outputs": [
    {
     "name": "stdout",
     "output_type": "stream",
     "text": [
      "64313\n"
     ]
    }
   ],
   "source": [
    "# How many total units (the qty column) did the client with the most entries order order?\n",
    "top_client_id = top_clients.index[0]\n",
    "total_units_client = df[df[\"client_id\"] == top_client_id][\"qty\"].sum()\n",
    "total_units_client"
   ]
  },
  {
   "cell_type": "markdown",
   "id": "257fcd7d",
   "metadata": {},
   "source": [
    "## Part 2: Transform the Data\n",
    "Do we know that this client spent the more money than client 66037? If not, how would we find out? Transform the data using the steps below to prepare it for analysis."
   ]
  },
  {
   "cell_type": "code",
   "execution_count": 213,
   "id": "0c25c4a8",
   "metadata": {},
   "outputs": [
    {
     "name": "stdout",
     "output_type": "stream",
     "text": [
      "       first      last                    job               phone  \\\n",
      "0     Donald   Harding           Immunologist  793-904-7725x39308   \n",
      "1    Tiffany     Myers        Music therapist    201.442.4543x942   \n",
      "2    Shannon    Watson           Immunologist   687.737.9424x8503   \n",
      "3     Nathan     Baker  Accounting technician    827-788-8123x012   \n",
      "4  Christina  Schwartz           Chiropractor        265-829-3643   \n",
      "\n",
      "                                 email  client_id  order_id  order_date  \\\n",
      "0     harding.donald.7185@sullivan.com      58515   8953482  2023-04-28   \n",
      "1    myers.t.6537@ferguson-johnson.net      37609   8069089  2023-05-19   \n",
      "2                swatson8146@payne.net      57113   1902144  2023-01-29   \n",
      "3               bakernathan@benson.com      46554   9031802  2023-04-25   \n",
      "4  christinaschwartz9252@mcconnell.com      92089   1322274  2023-05-28   \n",
      "\n",
      "   order_week  order_year         item_id     category         subcategory  \\\n",
      "0          17        2023  EUD29711-63-6U        decor            wall art   \n",
      "1          20        2023  XDA18116-89-4A  consumables                pens   \n",
      "2           4        2023  ABE59463-05-7E     software  project management   \n",
      "3          17        2023  ZMM00836-65-0C  consumables                pens   \n",
      "4          21        2023  BZX55559-12-3X  consumables                misc   \n",
      "\n",
      "   unit_price  unit_cost  unit_weight  qty  line_number   subtotal  \n",
      "0     1096.80     762.71         7.50  105            1  115164.00  \n",
      "1       24.95      15.09         1.49   21            0     523.95  \n",
      "2       13.52       7.86         1.68   39            6     527.28  \n",
      "3       36.42      24.85         1.23   29            3    1056.18  \n",
      "4      195.10     108.17        46.43   20            1    3902.00  \n",
      "0    115164.00\n",
      "1       523.95\n",
      "2       527.28\n",
      "3      1056.18\n",
      "4      3902.00\n",
      "Name: subtotal, dtype: float64\n"
     ]
    }
   ],
   "source": [
    "# Create a column that calculates the subtotal for each line using the unit_price and the qty\n",
    "df['subtotal'] = df[\"unit_price\"] * df[\"qty\"]\n",
    "df.head()"
   ]
  },
  {
   "cell_type": "code",
   "execution_count": 214,
   "id": "ac9dafc8",
   "metadata": {},
   "outputs": [],
   "source": [
    "# Create a column for shipping price.\n",
    "# Assume a shipping price of $7 per pound for orders over 50 pounds and $10 per pound for items 50 pounds or under.\n",
    "df[\"shipping_price\"] = df[\"unit_weight\"].apply(lambda p: 7 * p if p > 50 \n",
    "                                               else 10 * p)\n",
    "df.head()\n"
   ]
  },
  {
   "cell_type": "code",
   "execution_count": 215,
   "id": "77f42c67",
   "metadata": {},
   "outputs": [],
   "source": [
    "# Create a column for the total price using the subtotal and the shipping price along with a sales tax of 9.25%\n",
    "df[\"total_price\"] = (df[\"subtotal\"] + df[\"shipping_price\"]) * 1.0925\n",
    "df.head()"
   ]
  },
  {
   "cell_type": "code",
   "execution_count": 216,
   "id": "c82ad275",
   "metadata": {},
   "outputs": [],
   "source": [
    "# Create a column for the cost of each line using unit cost, qty, and\n",
    "# shipping price (assume the shipping cost is exactly what is charged to the client).\n",
    "df[\"cost\"] = (df[\"unit_cost\"] * df[\"qty\"]) + df[\"shipping_price\"]\n",
    "df.head()"
   ]
  },
  {
   "cell_type": "code",
   "execution_count": 217,
   "id": "e2389018",
   "metadata": {},
   "outputs": [
    {
     "name": "stdout",
     "output_type": "stream",
     "text": [
      "       first      last                    job               phone  \\\n",
      "0     Donald   Harding           Immunologist  793-904-7725x39308   \n",
      "1    Tiffany     Myers        Music therapist    201.442.4543x942   \n",
      "2    Shannon    Watson           Immunologist   687.737.9424x8503   \n",
      "3     Nathan     Baker  Accounting technician    827-788-8123x012   \n",
      "4  Christina  Schwartz           Chiropractor        265-829-3643   \n",
      "\n",
      "                                 email  client_id  order_id  order_date  \\\n",
      "0     harding.donald.7185@sullivan.com      58515   8953482  2023-04-28   \n",
      "1    myers.t.6537@ferguson-johnson.net      37609   8069089  2023-05-19   \n",
      "2                swatson8146@payne.net      57113   1902144  2023-01-29   \n",
      "3               bakernathan@benson.com      46554   9031802  2023-04-25   \n",
      "4  christinaschwartz9252@mcconnell.com      92089   1322274  2023-05-28   \n",
      "\n",
      "   order_week  order_year  ... unit_cost unit_weight  qty  line_number  \\\n",
      "0          17        2023  ...    762.71        7.50  105            1   \n",
      "1          20        2023  ...     15.09        1.49   21            0   \n",
      "2           4        2023  ...      7.86        1.68   39            6   \n",
      "3          17        2023  ...     24.85        1.23   29            3   \n",
      "4          21        2023  ...    108.17       46.43   20            1   \n",
      "\n",
      "    subtotal  shipping_price    total_price  line_price  line_cost  \\\n",
      "0  115164.00            75.0  125898.607500   115164.00   80159.55   \n",
      "1     523.95            14.9     588.693625      523.95     331.79   \n",
      "2     527.28            16.8     594.407400      527.28     323.34   \n",
      "3    1056.18            12.3    1167.314400     1056.18     732.95   \n",
      "4    3902.00           464.3    4770.182750     3902.00    2627.70   \n",
      "\n",
      "         profit  \n",
      "0  45739.057500  \n",
      "1    256.903625  \n",
      "2    271.067400  \n",
      "3    434.364400  \n",
      "4   2142.482750  \n",
      "\n",
      "[5 rows x 24 columns]\n"
     ]
    }
   ],
   "source": [
    "# Create a column for the profit of each line using line cost and line price\n",
    "df[\"profit\"] = df[\"total_price\"] - df[\"cost\"]\n",
    "df.head()"
   ]
  },
  {
   "cell_type": "markdown",
   "id": "ef6f62b1",
   "metadata": {},
   "source": [
    "## Part 3: Confirm your work\n",
    "You have email receipts showing that the total prices for 3 orders. Confirm that your calculations match the receipts. Remember, each order has multiple lines.\n",
    "\n",
    "Order ID 2742071 had a total price of \\$152,811.89\n",
    "\n",
    "Order ID 2173913 had a total price of \\$162,388.71\n",
    "\n",
    "Order ID 6128929 had a total price of \\$923,441.25\n"
   ]
  },
  {
   "cell_type": "code",
   "execution_count": 218,
   "id": "c0e5d68e",
   "metadata": {},
   "outputs": [
    {
     "name": "stdout",
     "output_type": "stream",
     "text": [
      "Order ID 2742071: Expected Total = 152811.89, Actual Total = 139844.51202499997\n",
      "Order ID 2173913: Expected Total = 162388.71, Actual Total = 119838.35704999999\n",
      "Order ID 6128929: Expected Total = 923441.25, Actual Total = 752748.7454750001\n"
     ]
    }
   ],
   "source": [
    "# Check your work using the totals above\n",
    "order_ids = [2742071, 2173913, 6128929]\n",
    "order_totals = df[df[\"order_id\"].isin(order_ids)].groupby(\"order_id\")[\"total_price\"].sum()\n",
    "order_totals"
   ]
  },
  {
   "cell_type": "markdown",
   "id": "b94d58ab",
   "metadata": {},
   "source": [
    "## Part 4: Summarize and Analyze\n",
    "Use the new columns with confirmed values to find the following information."
   ]
  },
  {
   "cell_type": "code",
   "execution_count": 219,
   "id": "7c005f34",
   "metadata": {},
   "outputs": [
    {
     "name": "stdout",
     "output_type": "stream",
     "text": [
      "Client ID 33615: Total Revenue = 6392918.349675\n",
      "Client ID 66037: Total Revenue = 8746255.3054\n",
      "Client ID 46820: Total Revenue = 8006332.531775\n",
      "Client ID 38378: Total Revenue = 9172866.143875003\n",
      "Client ID 24741: Total Revenue = 76678479.053625\n"
     ]
    }
   ],
   "source": [
    "# How much did each of the top 5 clients by quantity spend? Check your work from Part 1 for client ids.\n",
    "client_spending = df[df[\"client_id\"].isin(top_clients_list)].groupby(\"client_id\")[\"total_price\"].sum()\n",
    "client_spending"
   ]
  },
  {
   "cell_type": "code",
   "execution_count": 220,
   "id": "81b6e4d2",
   "metadata": {},
   "outputs": [
    {
     "ename": "KeyError",
     "evalue": "\"Column(s) ['Quantity', 'Shipping Price (Millions)'] do not exist\"",
     "output_type": "error",
     "traceback": [
      "\u001b[0;31m---------------------------------------------------------------------------\u001b[0m",
      "\u001b[0;31mKeyError\u001b[0m                                  Traceback (most recent call last)",
      "Cell \u001b[0;32mIn[220], line 4\u001b[0m\n\u001b[1;32m      1\u001b[0m \u001b[38;5;66;03m# Create a summary DataFrame showing the totals for the for the top 5 clients with the following information:\u001b[39;00m\n\u001b[1;32m      2\u001b[0m \u001b[38;5;66;03m# total units purchased, total shipping price, total revenue, and total profit. \u001b[39;00m\n\u001b[0;32m----> 4\u001b[0m top_clients_summary \u001b[38;5;241m=\u001b[39m df[df[\u001b[38;5;124m'\u001b[39m\u001b[38;5;124mclient_id\u001b[39m\u001b[38;5;124m'\u001b[39m]\u001b[38;5;241m.\u001b[39misin(top_client_ids)]\u001b[38;5;241m.\u001b[39mgroupby(\u001b[38;5;124m'\u001b[39m\u001b[38;5;124mclient_id\u001b[39m\u001b[38;5;124m'\u001b[39m)\u001b[38;5;241m.\u001b[39magg({\n\u001b[1;32m      5\u001b[0m     \u001b[38;5;124m'\u001b[39m\u001b[38;5;124mQuantity\u001b[39m\u001b[38;5;124m'\u001b[39m: \u001b[38;5;124m'\u001b[39m\u001b[38;5;124msum\u001b[39m\u001b[38;5;124m'\u001b[39m,  \u001b[38;5;66;03m# Total units purchased\u001b[39;00m\n\u001b[1;32m      6\u001b[0m     \u001b[38;5;124m'\u001b[39m\u001b[38;5;124mShipping Price (Millions)\u001b[39m\u001b[38;5;124m'\u001b[39m: \u001b[38;5;124m'\u001b[39m\u001b[38;5;124msum\u001b[39m\u001b[38;5;124m'\u001b[39m,  \u001b[38;5;66;03m# Total shipping price\u001b[39;00m\n\u001b[1;32m      7\u001b[0m     \u001b[38;5;124m'\u001b[39m\u001b[38;5;124mtotal_price\u001b[39m\u001b[38;5;124m'\u001b[39m: \u001b[38;5;124m'\u001b[39m\u001b[38;5;124msum\u001b[39m\u001b[38;5;124m'\u001b[39m,  \u001b[38;5;66;03m# Total revenue\u001b[39;00m\n\u001b[1;32m      8\u001b[0m     \u001b[38;5;124m'\u001b[39m\u001b[38;5;124mprofit\u001b[39m\u001b[38;5;124m'\u001b[39m: \u001b[38;5;124m'\u001b[39m\u001b[38;5;124msum\u001b[39m\u001b[38;5;124m'\u001b[39m  \u001b[38;5;66;03m# Total profit\u001b[39;00m\n\u001b[1;32m      9\u001b[0m })\u001b[38;5;241m.\u001b[39mreset_index()\n",
      "File \u001b[0;32m/opt/anaconda3/lib/python3.11/site-packages/pandas/core/groupby/generic.py:1445\u001b[0m, in \u001b[0;36mDataFrameGroupBy.aggregate\u001b[0;34m(self, func, engine, engine_kwargs, *args, **kwargs)\u001b[0m\n\u001b[1;32m   1442\u001b[0m     kwargs[\u001b[38;5;124m\"\u001b[39m\u001b[38;5;124mengine_kwargs\u001b[39m\u001b[38;5;124m\"\u001b[39m] \u001b[38;5;241m=\u001b[39m engine_kwargs\n\u001b[1;32m   1444\u001b[0m op \u001b[38;5;241m=\u001b[39m GroupByApply(\u001b[38;5;28mself\u001b[39m, func, args\u001b[38;5;241m=\u001b[39margs, kwargs\u001b[38;5;241m=\u001b[39mkwargs)\n\u001b[0;32m-> 1445\u001b[0m result \u001b[38;5;241m=\u001b[39m op\u001b[38;5;241m.\u001b[39magg()\n\u001b[1;32m   1446\u001b[0m \u001b[38;5;28;01mif\u001b[39;00m \u001b[38;5;129;01mnot\u001b[39;00m is_dict_like(func) \u001b[38;5;129;01mand\u001b[39;00m result \u001b[38;5;129;01mis\u001b[39;00m \u001b[38;5;129;01mnot\u001b[39;00m \u001b[38;5;28;01mNone\u001b[39;00m:\n\u001b[1;32m   1447\u001b[0m     \u001b[38;5;66;03m# GH #52849\u001b[39;00m\n\u001b[1;32m   1448\u001b[0m     \u001b[38;5;28;01mif\u001b[39;00m \u001b[38;5;129;01mnot\u001b[39;00m \u001b[38;5;28mself\u001b[39m\u001b[38;5;241m.\u001b[39mas_index \u001b[38;5;129;01mand\u001b[39;00m is_list_like(func):\n",
      "File \u001b[0;32m/opt/anaconda3/lib/python3.11/site-packages/pandas/core/apply.py:175\u001b[0m, in \u001b[0;36mApply.agg\u001b[0;34m(self)\u001b[0m\n\u001b[1;32m    172\u001b[0m     \u001b[38;5;28;01mreturn\u001b[39;00m \u001b[38;5;28mself\u001b[39m\u001b[38;5;241m.\u001b[39mapply_str()\n\u001b[1;32m    174\u001b[0m \u001b[38;5;28;01mif\u001b[39;00m is_dict_like(func):\n\u001b[0;32m--> 175\u001b[0m     \u001b[38;5;28;01mreturn\u001b[39;00m \u001b[38;5;28mself\u001b[39m\u001b[38;5;241m.\u001b[39magg_dict_like()\n\u001b[1;32m    176\u001b[0m \u001b[38;5;28;01melif\u001b[39;00m is_list_like(func):\n\u001b[1;32m    177\u001b[0m     \u001b[38;5;66;03m# we require a list, but not a 'str'\u001b[39;00m\n\u001b[1;32m    178\u001b[0m     \u001b[38;5;28;01mreturn\u001b[39;00m \u001b[38;5;28mself\u001b[39m\u001b[38;5;241m.\u001b[39magg_list_like()\n",
      "File \u001b[0;32m/opt/anaconda3/lib/python3.11/site-packages/pandas/core/apply.py:406\u001b[0m, in \u001b[0;36mApply.agg_dict_like\u001b[0;34m(self)\u001b[0m\n\u001b[1;32m    398\u001b[0m \u001b[38;5;28;01mdef\u001b[39;00m \u001b[38;5;21magg_dict_like\u001b[39m(\u001b[38;5;28mself\u001b[39m) \u001b[38;5;241m-\u001b[39m\u001b[38;5;241m>\u001b[39m DataFrame \u001b[38;5;241m|\u001b[39m Series:\n\u001b[1;32m    399\u001b[0m \u001b[38;5;250m    \u001b[39m\u001b[38;5;124;03m\"\"\"\u001b[39;00m\n\u001b[1;32m    400\u001b[0m \u001b[38;5;124;03m    Compute aggregation in the case of a dict-like argument.\u001b[39;00m\n\u001b[1;32m    401\u001b[0m \n\u001b[0;32m   (...)\u001b[0m\n\u001b[1;32m    404\u001b[0m \u001b[38;5;124;03m    Result of aggregation.\u001b[39;00m\n\u001b[1;32m    405\u001b[0m \u001b[38;5;124;03m    \"\"\"\u001b[39;00m\n\u001b[0;32m--> 406\u001b[0m     \u001b[38;5;28;01mreturn\u001b[39;00m \u001b[38;5;28mself\u001b[39m\u001b[38;5;241m.\u001b[39magg_or_apply_dict_like(op_name\u001b[38;5;241m=\u001b[39m\u001b[38;5;124m\"\u001b[39m\u001b[38;5;124magg\u001b[39m\u001b[38;5;124m\"\u001b[39m)\n",
      "File \u001b[0;32m/opt/anaconda3/lib/python3.11/site-packages/pandas/core/apply.py:1390\u001b[0m, in \u001b[0;36mGroupByApply.agg_or_apply_dict_like\u001b[0;34m(self, op_name)\u001b[0m\n\u001b[1;32m   1385\u001b[0m     kwargs\u001b[38;5;241m.\u001b[39mupdate({\u001b[38;5;124m\"\u001b[39m\u001b[38;5;124mengine\u001b[39m\u001b[38;5;124m\"\u001b[39m: engine, \u001b[38;5;124m\"\u001b[39m\u001b[38;5;124mengine_kwargs\u001b[39m\u001b[38;5;124m\"\u001b[39m: engine_kwargs})\n\u001b[1;32m   1387\u001b[0m \u001b[38;5;28;01mwith\u001b[39;00m com\u001b[38;5;241m.\u001b[39mtemp_setattr(\n\u001b[1;32m   1388\u001b[0m     obj, \u001b[38;5;124m\"\u001b[39m\u001b[38;5;124mas_index\u001b[39m\u001b[38;5;124m\"\u001b[39m, \u001b[38;5;28;01mTrue\u001b[39;00m, condition\u001b[38;5;241m=\u001b[39m\u001b[38;5;28mhasattr\u001b[39m(obj, \u001b[38;5;124m\"\u001b[39m\u001b[38;5;124mas_index\u001b[39m\u001b[38;5;124m\"\u001b[39m)\n\u001b[1;32m   1389\u001b[0m ):\n\u001b[0;32m-> 1390\u001b[0m     result_index, result_data \u001b[38;5;241m=\u001b[39m \u001b[38;5;28mself\u001b[39m\u001b[38;5;241m.\u001b[39mcompute_dict_like(\n\u001b[1;32m   1391\u001b[0m         op_name, selected_obj, selection, kwargs\n\u001b[1;32m   1392\u001b[0m     )\n\u001b[1;32m   1393\u001b[0m result \u001b[38;5;241m=\u001b[39m \u001b[38;5;28mself\u001b[39m\u001b[38;5;241m.\u001b[39mwrap_results_dict_like(selected_obj, result_index, result_data)\n\u001b[1;32m   1394\u001b[0m \u001b[38;5;28;01mreturn\u001b[39;00m result\n",
      "File \u001b[0;32m/opt/anaconda3/lib/python3.11/site-packages/pandas/core/apply.py:445\u001b[0m, in \u001b[0;36mApply.compute_dict_like\u001b[0;34m(self, op_name, selected_obj, selection, kwargs)\u001b[0m\n\u001b[1;32m    443\u001b[0m is_groupby \u001b[38;5;241m=\u001b[39m \u001b[38;5;28misinstance\u001b[39m(obj, (DataFrameGroupBy, SeriesGroupBy))\n\u001b[1;32m    444\u001b[0m func \u001b[38;5;241m=\u001b[39m cast(AggFuncTypeDict, \u001b[38;5;28mself\u001b[39m\u001b[38;5;241m.\u001b[39mfunc)\n\u001b[0;32m--> 445\u001b[0m func \u001b[38;5;241m=\u001b[39m \u001b[38;5;28mself\u001b[39m\u001b[38;5;241m.\u001b[39mnormalize_dictlike_arg(op_name, selected_obj, func)\n\u001b[1;32m    447\u001b[0m is_non_unique_col \u001b[38;5;241m=\u001b[39m (\n\u001b[1;32m    448\u001b[0m     selected_obj\u001b[38;5;241m.\u001b[39mndim \u001b[38;5;241m==\u001b[39m \u001b[38;5;241m2\u001b[39m\n\u001b[1;32m    449\u001b[0m     \u001b[38;5;129;01mand\u001b[39;00m selected_obj\u001b[38;5;241m.\u001b[39mcolumns\u001b[38;5;241m.\u001b[39mnunique() \u001b[38;5;241m<\u001b[39m \u001b[38;5;28mlen\u001b[39m(selected_obj\u001b[38;5;241m.\u001b[39mcolumns)\n\u001b[1;32m    450\u001b[0m )\n\u001b[1;32m    452\u001b[0m \u001b[38;5;28;01mif\u001b[39;00m selected_obj\u001b[38;5;241m.\u001b[39mndim \u001b[38;5;241m==\u001b[39m \u001b[38;5;241m1\u001b[39m:\n\u001b[1;32m    453\u001b[0m     \u001b[38;5;66;03m# key only used for output\u001b[39;00m\n",
      "File \u001b[0;32m/opt/anaconda3/lib/python3.11/site-packages/pandas/core/apply.py:639\u001b[0m, in \u001b[0;36mApply.normalize_dictlike_arg\u001b[0;34m(self, how, obj, func)\u001b[0m\n\u001b[1;32m    637\u001b[0m     cols \u001b[38;5;241m=\u001b[39m Index(\u001b[38;5;28mlist\u001b[39m(func\u001b[38;5;241m.\u001b[39mkeys()))\u001b[38;5;241m.\u001b[39mdifference(obj\u001b[38;5;241m.\u001b[39mcolumns, sort\u001b[38;5;241m=\u001b[39m\u001b[38;5;28;01mTrue\u001b[39;00m)\n\u001b[1;32m    638\u001b[0m     \u001b[38;5;28;01mif\u001b[39;00m \u001b[38;5;28mlen\u001b[39m(cols) \u001b[38;5;241m>\u001b[39m \u001b[38;5;241m0\u001b[39m:\n\u001b[0;32m--> 639\u001b[0m         \u001b[38;5;28;01mraise\u001b[39;00m \u001b[38;5;167;01mKeyError\u001b[39;00m(\u001b[38;5;124mf\u001b[39m\u001b[38;5;124m\"\u001b[39m\u001b[38;5;124mColumn(s) \u001b[39m\u001b[38;5;132;01m{\u001b[39;00m\u001b[38;5;28mlist\u001b[39m(cols)\u001b[38;5;132;01m}\u001b[39;00m\u001b[38;5;124m do not exist\u001b[39m\u001b[38;5;124m\"\u001b[39m)\n\u001b[1;32m    641\u001b[0m aggregator_types \u001b[38;5;241m=\u001b[39m (\u001b[38;5;28mlist\u001b[39m, \u001b[38;5;28mtuple\u001b[39m, \u001b[38;5;28mdict\u001b[39m)\n\u001b[1;32m    643\u001b[0m \u001b[38;5;66;03m# if we have a dict of any non-scalars\u001b[39;00m\n\u001b[1;32m    644\u001b[0m \u001b[38;5;66;03m# eg. {'A' : ['mean']}, normalize all to\u001b[39;00m\n\u001b[1;32m    645\u001b[0m \u001b[38;5;66;03m# be list-likes\u001b[39;00m\n\u001b[1;32m    646\u001b[0m \u001b[38;5;66;03m# Cannot use func.values() because arg may be a Series\u001b[39;00m\n",
      "\u001b[0;31mKeyError\u001b[0m: \"Column(s) ['Quantity', 'Shipping Price (Millions)'] do not exist\""
     ]
    }
   ],
   "source": [
    "# Create a summary DataFrame showing the totals for the for the top 5 clients with the following information:\n",
    "# total units purchased, total shipping price, total revenue, and total profit. \n",
    "summary_df = df[df['client_id'].isin(top_clients_list)].groupby('client_id').agg({\n",
    "    \"qty\": \"sum\",\n",
    "    \"shipping_price\": \"sum\",\n",
    "    \"total_price\": \"sum\",\n",
    "    \"profit\": \"sum\"}).reset_index()\n",
    "summary_df"
   ]
  },
  {
   "cell_type": "code",
   "execution_count": 221,
   "id": "7be02867",
   "metadata": {
    "scrolled": true
   },
   "outputs": [
    {
     "name": "stdout",
     "output_type": "stream",
     "text": [
      "       first      last                    job               phone  \\\n",
      "0     Donald   Harding           Immunologist  793-904-7725x39308   \n",
      "1    Tiffany     Myers        Music therapist    201.442.4543x942   \n",
      "2    Shannon    Watson           Immunologist   687.737.9424x8503   \n",
      "3     Nathan     Baker  Accounting technician    827-788-8123x012   \n",
      "4  Christina  Schwartz           Chiropractor        265-829-3643   \n",
      "\n",
      "                                 email  client_id  order_id  order_date  \\\n",
      "0     harding.donald.7185@sullivan.com      58515   8953482  2023-04-28   \n",
      "1    myers.t.6537@ferguson-johnson.net      37609   8069089  2023-05-19   \n",
      "2                swatson8146@payne.net      57113   1902144  2023-01-29   \n",
      "3               bakernathan@benson.com      46554   9031802  2023-04-25   \n",
      "4  christinaschwartz9252@mcconnell.com      92089   1322274  2023-05-28   \n",
      "\n",
      "   order_week  order_year  ... Unit Cost Unit Weight Quantity  line_number  \\\n",
      "0          17        2023  ...    762.71        7.50      105            1   \n",
      "1          20        2023  ...     15.09        1.49       21            0   \n",
      "2           4        2023  ...      7.86        1.68       39            6   \n",
      "3          17        2023  ...     24.85        1.23       29            3   \n",
      "4          21        2023  ...    108.17       46.43       20            1   \n",
      "\n",
      "    Subtotal  Shipping Price    total_price  line_price  line_cost  \\\n",
      "0  115164.00            75.0  125898.607500   115164.00   80159.55   \n",
      "1     523.95            14.9     588.693625      523.95     331.79   \n",
      "2     527.28            16.8     594.407400      527.28     323.34   \n",
      "3    1056.18            12.3    1167.314400     1056.18     732.95   \n",
      "4    3902.00           464.3    4770.182750     3902.00    2627.70   \n",
      "\n",
      "         profit  \n",
      "0  45739.057500  \n",
      "1    256.903625  \n",
      "2    271.067400  \n",
      "3    434.364400  \n",
      "4   2142.482750  \n",
      "\n",
      "[5 rows x 24 columns]\n",
      "       first      last                    job               phone  \\\n",
      "0     Donald   Harding           Immunologist  793-904-7725x39308   \n",
      "1    Tiffany     Myers        Music therapist    201.442.4543x942   \n",
      "2    Shannon    Watson           Immunologist   687.737.9424x8503   \n",
      "3     Nathan     Baker  Accounting technician    827-788-8123x012   \n",
      "4  Christina  Schwartz           Chiropractor        265-829-3643   \n",
      "\n",
      "                                 email  client_id  order_id  order_date  \\\n",
      "0     harding.donald.7185@sullivan.com      58515   8953482  2023-04-28   \n",
      "1    myers.t.6537@ferguson-johnson.net      37609   8069089  2023-05-19   \n",
      "2                swatson8146@payne.net      57113   1902144  2023-01-29   \n",
      "3               bakernathan@benson.com      46554   9031802  2023-04-25   \n",
      "4  christinaschwartz9252@mcconnell.com      92089   1322274  2023-05-28   \n",
      "\n",
      "   order_week  order_year  ... Unit Cost Unit Weight Quantity  line_number  \\\n",
      "0          17        2023  ...    762.71        7.50      105            1   \n",
      "1          20        2023  ...     15.09        1.49       21            0   \n",
      "2           4        2023  ...      7.86        1.68       39            6   \n",
      "3          17        2023  ...     24.85        1.23       29            3   \n",
      "4          21        2023  ...    108.17       46.43       20            1   \n",
      "\n",
      "   Subtotal  Shipping Price    total_price  line_price  line_cost  \\\n",
      "0  0.115164        0.000075  125898.607500   115164.00   80159.55   \n",
      "1  0.000524        0.000015     588.693625      523.95     331.79   \n",
      "2  0.000527        0.000017     594.407400      527.28     323.34   \n",
      "3  0.001056        0.000012    1167.314400     1056.18     732.95   \n",
      "4  0.003902        0.000464    4770.182750     3902.00    2627.70   \n",
      "\n",
      "         profit  \n",
      "0  45739.057500  \n",
      "1    256.903625  \n",
      "2    271.067400  \n",
      "3    434.364400  \n",
      "4   2142.482750  \n",
      "\n",
      "[5 rows x 24 columns]\n",
      "       first      last                    job               phone  \\\n",
      "0     Donald   Harding           Immunologist  793-904-7725x39308   \n",
      "1    Tiffany     Myers        Music therapist    201.442.4543x942   \n",
      "2    Shannon    Watson           Immunologist   687.737.9424x8503   \n",
      "3     Nathan     Baker  Accounting technician    827-788-8123x012   \n",
      "4  Christina  Schwartz           Chiropractor        265-829-3643   \n",
      "\n",
      "                                 email  client_id  order_id  order_date  \\\n",
      "0     harding.donald.7185@sullivan.com      58515   8953482  2023-04-28   \n",
      "1    myers.t.6537@ferguson-johnson.net      37609   8069089  2023-05-19   \n",
      "2                swatson8146@payne.net      57113   1902144  2023-01-29   \n",
      "3               bakernathan@benson.com      46554   9031802  2023-04-25   \n",
      "4  christinaschwartz9252@mcconnell.com      92089   1322274  2023-05-28   \n",
      "\n",
      "   order_week  order_year  ... Unit Cost Unit Weight Quantity  line_number  \\\n",
      "0          17        2023  ...    762.71        7.50      105            1   \n",
      "1          20        2023  ...     15.09        1.49       21            0   \n",
      "2           4        2023  ...      7.86        1.68       39            6   \n",
      "3          17        2023  ...     24.85        1.23       29            3   \n",
      "4          21        2023  ...    108.17       46.43       20            1   \n",
      "\n",
      "   Subtotal (Millions)  Shipping Price (Millions)    total_price  line_price  \\\n",
      "0             0.115164                   0.000075  125898.607500   115164.00   \n",
      "1             0.000524                   0.000015     588.693625      523.95   \n",
      "2             0.000527                   0.000017     594.407400      527.28   \n",
      "3             0.001056                   0.000012    1167.314400     1056.18   \n",
      "4             0.003902                   0.000464    4770.182750     3902.00   \n",
      "\n",
      "   line_cost        profit  \n",
      "0   80159.55  45739.057500  \n",
      "1     331.79    256.903625  \n",
      "2     323.34    271.067400  \n",
      "3     732.95    434.364400  \n",
      "4    2627.70   2142.482750  \n",
      "\n",
      "[5 rows x 24 columns]\n"
     ]
    }
   ],
   "source": [
    "# Format the data and rename the columns to names suitable for presentation.\n",
    "\n",
    "# Define the money columns.\n",
    "money_column = [\"shipping_price\", \"total_price\", \"profit\"]\n",
    "summary_df[money_column] = summary_df[money_column].apply(pd.to_numeric, errors=\"coerce\")\n",
    "\n",
    "# Define a function that converts a dollar amount to millions.\n",
    "def convert_millions(m):\n",
    "    return f\"${m / 1e6:.2f}M\"\n",
    "\n",
    "# Apply the currency_format_millions function to only the money columns. \n",
    "for col in money_column:\n",
    "    summary_df[col] = summary_df[col].apply(lambda x: convert_millions(x) if pd.notnull(x) else x)\n",
    "    \n",
    "# Rename the columns to reflect the change in the money format. \n",
    "summary_df = summary_df.rename(columns={\n",
    "    \"qty\" : \"Total_units\", \n",
    "    \"shipping_price\" : \"Total_shipping (Millions)\",\n",
    "    \"total_price\" : \"Total_revenue (Millions)\",\n",
    "    \"profit\" : \"Total_profit (Millions)\",\n",
    "})\n",
    "\n",
    "summary_df"
   ]
  },
  {
   "cell_type": "code",
   "execution_count": 222,
   "id": "8ead0986",
   "metadata": {
    "scrolled": true
   },
   "outputs": [],
   "source": [
    "# Sort the updated data by \"Total Profit (millions)\" form highest to lowest and assign the sort to a new DatFrame.\n",
    "summary_df = summary_df.sort_values(by=\"Total_profit (Millions)\", ascending=False)\n",
    "summary_df"
   ]
  },
  {
   "cell_type": "code",
   "execution_count": 223,
   "id": "87e0e7f8-b60e-4e50-ab07-c36b6deed513",
   "metadata": {},
   "outputs": [],
   "source": [
    "#summary - In this assignment, we had a bunch of data and had to organize it neatly using a program called JupyterLab. We did things like adding up how much stuff different clients bought, how much they paid for shipping, and how much money they made overall. Sometimes we ran into problems, but by figuring out what went wrong and fixing it, we learned more about how to work with data using Python.\n",
    "\n"
   ]
  },
  {
   "cell_type": "code",
   "execution_count": null,
   "id": "59773bd4-3855-45e6-8181-790746c3cf8b",
   "metadata": {},
   "outputs": [],
   "source": []
  },
  {
   "cell_type": "code",
   "execution_count": null,
   "id": "71b32367-5db8-45de-90db-5e22949343ea",
   "metadata": {},
   "outputs": [],
   "source": []
  },
  {
   "cell_type": "code",
   "execution_count": null,
   "id": "3dd2bbd8-1a31-48a1-95fe-1cd8701e670b",
   "metadata": {},
   "outputs": [],
   "source": []
  },
  {
   "cell_type": "code",
   "execution_count": null,
   "id": "a3f4c8d5-7eab-4fb6-a68a-d1fa637e5aa7",
   "metadata": {},
   "outputs": [],
   "source": []
  }
 ],
 "metadata": {
  "kernelspec": {
   "display_name": "Python 3 (ipykernel)",
   "language": "python",
   "name": "python3"
  },
  "language_info": {
   "codemirror_mode": {
    "name": "ipython",
    "version": 3
   },
   "file_extension": ".py",
   "mimetype": "text/x-python",
   "name": "python",
   "nbconvert_exporter": "python",
   "pygments_lexer": "ipython3",
   "version": "3.11.7"
  }
 },
 "nbformat": 4,
 "nbformat_minor": 5
}
