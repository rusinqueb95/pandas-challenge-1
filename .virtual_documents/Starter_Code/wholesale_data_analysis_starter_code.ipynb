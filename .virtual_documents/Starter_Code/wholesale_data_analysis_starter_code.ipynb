


import pandas as pd

df = pd.read_csv('Resources/client_dataset.csv')
df.head()


# View the column names in the data
print(df.columns)


# Use the describe function to gather some basic statistics
print (df.describe())


# Use this space to do any additional research
# and familiarize yourself with the data.



# What three item categories had the most entries?
top_categories = df['category'].value_counts().head(3)
print(top_categories)


# For the category with the most entries, which subcategory had the most entries?
top_category = df['category'].value_counts().idxmax()
top_subcategory = df[df['category'] == top_category]['subcategory'].value_counts().idxmax()
print(top_category)


# Which five clients had the most entries in the data?
top_clients = df['client_id'].value_counts().head(5)
print(top_clients)




# Store the client ids of those top 5 clients in a list.
top_client_ids = top_clients.index.tolist()
print(top_client_ids)



# How many total units (the qty column) did the client with the most entries order order?
top_client_id = top_client_ids[0]
total_units_top_client = df[df['client_id'] == top_client_id]['qty'].sum()
print(total_units_top_client)





# Create a column that calculates the subtotal for each line using the unit_price and the qty
df['subtotal'] = df['unit_price'] * df['qty']

# I WASNT SURE WHETHER TO CREATE THE ENTIRE DATAFRAME WITH THE NEW COLUMN, OR JUST TO SEE THE NEW COLUMN, SO I DID BOTH! :)
print(df.head())
print(df['subtotal'].head())


# Create a column for shipping price.
# Assume a shipping price of $7 per pound for orders over 50 pounds and $10 per pound for items 50 pounds or under.

df['shipping_price'] = df['unit_weight'].apply(lambda x: 7 * x if x > 50 else 10 *x)





# Create a column for the total price using the subtotal and the shipping price along with a sales tax of 9.25%
df['total_price'] = (df['subtotal'] + df['shipping_price']) * 1.0925



# Create a column for the cost of each line using unit cost, qty, and
# shipping price (assume the shipping cost is exactly what is charged to the client).
df['line_price'] = df['unit_price'] * df['qty']
df['line_cost'] = df['unit_cost'] * df['qty'] + df['shipping_price']




# Create a column for the profit of each line using line cost and line price



df['profit'] = df['total_price'] - df['line_cost']

print(df.head())







# Check your work using the totals above

def check_order_total(order_id, expected_total):
    actual_total = df[df['order_id'] == order_id]['total_price'].sum()
    print(f"Order ID {order_id}: Expected Total = {expected_total}, Actual Total = {actual_total}")

check_order_total(2742071, 152811.89)
check_order_total(2173913, 162388.71)
check_order_total(6128929, 923441.25)





# How much did each of the top 5 clients by quantity spend? Check your work from Part 1 for client ids.
for client_id in top_client_ids:
    total_revenue = df[df['client_id'] == client_id]['total_price'].sum()
    print(f"Client ID {client_id}: Total Revenue = {total_revenue}")



# Create a summary DataFrame showing the totals for the for the top 5 clients with the following information:
# total units purchased, total shipping price, total revenue, and total profit. 

top_clients_summary = df[df['client_id'].isin(top_client_ids)].groupby('client_id').agg({
    'Quantity': 'sum',  # Total units purchased
    'Shipping Price (Millions)': 'sum',  # Total shipping price
    'total_price': 'sum',  # Total revenue
    'profit': 'sum'  # Total profit
}).reset_index()




# Format the data and rename the columns to names suitable for presentation.
df.rename(columns={
    'unit_price': 'Unit Price',
    'unit_cost': 'Unit Cost',
    'unit_weight': 'Unit Weight',
    'qty': 'Quantity',
    'subtotal': 'Subtotal',
    'shipping_price': 'Shipping Price'
}, inplace=True)

print(df.head())

# Define the money columns. 
money_columns = ['Subtotal', 'Shipping Price', 'Total Price', 'Line Cost', 'Profit']

# Define a function that converts a dollar amount to millions.

def currency_format_millions(amount):
    return amount / 1_000_000

# Apply the currency_format_millions function to only the money columns. 

for col in money_columns:
    if col in df.columns:
        df[col] = df[col].apply(currency_format_millions)

print(df.head())

# Rename the columns to reflect the change in the money format. 

df.rename(columns={
    'Subtotal': 'Subtotal (Millions)',
    'Shipping Price': 'Shipping Price (Millions)',
    'Total Price': 'Total Price (Millions)',
    'Profit': 'Profit (Millions)'
}, inplace=True)

print(df.head())



df['Total Profit (Millions)'] = df['profit']

sorted_df = df.sort_values(by='Total Profit (Millions)', ascending=False)





#summary - In this assignment, we had a bunch of data and had to organize it neatly using a program called JupyterLab. We did things like adding up how much stuff different clients bought, how much they paid for shipping, and how much money they made overall. Sometimes we ran into problems, but by figuring out what went wrong and fixing it, we learned more about how to work with data using Python.












