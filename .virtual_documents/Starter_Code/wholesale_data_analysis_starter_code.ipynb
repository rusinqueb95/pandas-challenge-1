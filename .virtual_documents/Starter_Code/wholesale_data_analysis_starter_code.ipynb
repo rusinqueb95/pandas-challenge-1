


import pandas as pd

df = pd.read_csv('Resources/client_dataset.csv')
df.head()


# View the column names in the data
df.columns


# Use the describe function to gather some basic statistics
df.describe()


# Use this space to do any additional research
# and familiarize yourself with the data.

df[["category", "subcategory", "qty"]]
df


# What three item categories had the most entries?
top_categorie_items = df["category"].value_counts()
top_categories = top_categorie_items.head(3)
top_categories


# For the category with the most entries, which subcategory had the most entries?
top_category = top_categorie_items.index[0]
top_subcategory = df[df["category"] == top_category]["subcategory"].value_counts().idxmax()
top_subcategory


# Which five clients had the most entries in the data?
top_client_count = df["client_id"].value_counts()
top_clients = top_client_count.head(5)
top_clients



# Store the client ids of those top 5 clients in a list.
top_client = df['client_id'].value_counts().head(5)
top_clients_list = top_clients.index.to_list()
top_clients_list



# How many total units (the qty column) did the client with the most entries order order?
top_client_id = top_clients.index[0]
total_units_client = df[df["client_id"] == top_client_id]["qty"].sum()
total_units_client





# Create a column that calculates the subtotal for each line using the unit_price and the qty
df['subtotal'] = df["unit_price"] * df["qty"]
df.head()


# Create a column for shipping price.
# Assume a shipping price of $7 per pound for orders over 50 pounds and $10 per pound for items 50 pounds or under.
df["shipping_price"] = df["unit_weight"].apply(lambda p: 7 * p if p > 50 
                                               else 10 * p)
df.head()



# Create a column for the total price using the subtotal and the shipping price along with a sales tax of 9.25%
df["total_price"] = (df["subtotal"] + df["shipping_price"]) * 1.0925
df.head()


# Create a column for the cost of each line using unit cost, qty, and
# shipping price (assume the shipping cost is exactly what is charged to the client).
df["cost"] = (df["unit_cost"] * df["qty"]) + df["shipping_price"]
df.head()


# Create a column for the profit of each line using line cost and line price
df["profit"] = df["total_price"] - df["cost"]
df.head()





# Check your work using the totals above
order_ids = [2742071, 2173913, 6128929]
order_totals = df[df["order_id"].isin(order_ids)].groupby("order_id")["total_price"].sum()
order_totals





# How much did each of the top 5 clients by quantity spend? Check your work from Part 1 for client ids.
client_spending = df[df["client_id"].isin(top_clients_list)].groupby("client_id")["total_price"].sum()
client_spending


# Create a summary DataFrame showing the totals for the for the top 5 clients with the following information:
# total units purchased, total shipping price, total revenue, and total profit. 
summary_df = df[df['client_id'].isin(top_clients_list)].groupby('client_id').agg({
    "qty": "sum",
    "shipping_price": "sum",
    "total_price": "sum",
    "profit": "sum"}).reset_index()
summary_df


# Format the data and rename the columns to names suitable for presentation.

# Define the money columns.
money_column = ["shipping_price", "total_price", "profit"]
summary_df[money_column] = summary_df[money_column].apply(pd.to_numeric, errors="coerce")

# Define a function that converts a dollar amount to millions.
def convert_millions(m):
    return f"${m / 1e6:.2f}M"

# Apply the currency_format_millions function to only the money columns. 
for col in money_column:
    summary_df[col] = summary_df[col].apply(lambda x: convert_millions(x) if pd.notnull(x) else x)
    
# Rename the columns to reflect the change in the money format. 
summary_df = summary_df.rename(columns={
    "qty" : "Total_units", 
    "shipping_price" : "Total_shipping (Millions)",
    "total_price" : "Total_revenue (Millions)",
    "profit" : "Total_profit (Millions)",
})

summary_df


# Sort the updated data by "Total Profit (millions)" form highest to lowest and assign the sort to a new DatFrame.
summary_df = summary_df.sort_values(by="Total_profit (Millions)", ascending=False)
summary_df


#summary - In this assignment, we had a bunch of data and had to organize it neatly using a program called JupyterLab. We did things like adding up how much stuff different clients bought, how much they paid for shipping, and how much money they made overall. Sometimes we ran into problems, but by figuring out what went wrong and fixing it, we learned more about how to work with data using Python.

















